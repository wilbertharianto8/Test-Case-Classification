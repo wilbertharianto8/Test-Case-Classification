{
 "cells": [
  {
   "cell_type": "code",
   "execution_count": 1,
   "id": "3b89a2ce",
   "metadata": {
    "_cell_guid": "b1076dfc-b9ad-4769-8c92-a6c4dae69d19",
    "_uuid": "8f2839f25d086af736a60e9eeb907d3b93b6e0e5",
    "execution": {
     "iopub.execute_input": "2025-01-02T07:10:27.014885Z",
     "iopub.status.busy": "2025-01-02T07:10:27.014399Z",
     "iopub.status.idle": "2025-01-02T07:10:27.859918Z",
     "shell.execute_reply": "2025-01-02T07:10:27.858709Z"
    },
    "papermill": {
     "duration": 0.852849,
     "end_time": "2025-01-02T07:10:27.861973",
     "exception": false,
     "start_time": "2025-01-02T07:10:27.009124",
     "status": "completed"
    },
    "tags": []
   },
   "outputs": [
    {
     "name": "stdout",
     "output_type": "stream",
     "text": [
      "/kaggle/input/positive-and-negative-test-cases/Labelled_Test_Cases.csv\n"
     ]
    }
   ],
   "source": [
    "# This Python 3 environment comes with many helpful analytics libraries installed\n",
    "# It is defined by the kaggle/python Docker image: https://github.com/kaggle/docker-python\n",
    "# For example, here's several helpful packages to load\n",
    "\n",
    "import numpy as np # linear algebra\n",
    "import pandas as pd # data processing, CSV file I/O (e.g. pd.read_csv)\n",
    "\n",
    "# Input data files are available in the read-only \"../input/\" directory\n",
    "# For example, running this (by clicking run or pressing Shift+Enter) will list all files under the input directory\n",
    "\n",
    "import os\n",
    "for dirname, _, filenames in os.walk('/kaggle/input'):\n",
    "    for filename in filenames:\n",
    "        print(os.path.join(dirname, filename))\n",
    "\n",
    "# You can write up to 20GB to the current directory (/kaggle/working/) that gets preserved as output when you create a version using \"Save & Run All\" \n",
    "# You can also write temporary files to /kaggle/temp/, but they won't be saved outside of the current session"
   ]
  },
  {
   "cell_type": "code",
   "execution_count": 2,
   "id": "b1cda297",
   "metadata": {
    "execution": {
     "iopub.execute_input": "2025-01-02T07:10:27.870005Z",
     "iopub.status.busy": "2025-01-02T07:10:27.869544Z",
     "iopub.status.idle": "2025-01-02T07:10:27.929560Z",
     "shell.execute_reply": "2025-01-02T07:10:27.928574Z"
    },
    "papermill": {
     "duration": 0.066594,
     "end_time": "2025-01-02T07:10:27.932062",
     "exception": false,
     "start_time": "2025-01-02T07:10:27.865468",
     "status": "completed"
    },
    "tags": []
   },
   "outputs": [],
   "source": [
    "# Specify the correct encoding when reading the CSV file\n",
    "# df = pd.read_csv('/kaggle/input/positive-and-negative-test-cases/Labelled_Test_Cases.csv')  \n",
    "df = pd.read_csv('/kaggle/input/positive-and-negative-test-cases/Labelled_Test_Cases.csv', encoding='latin1') \n",
    "# Try 'ISO-8859-1' or 'utf-16' if needed"
   ]
  },
  {
   "cell_type": "code",
   "execution_count": 3,
   "id": "5cdae119",
   "metadata": {
    "execution": {
     "iopub.execute_input": "2025-01-02T07:10:27.939929Z",
     "iopub.status.busy": "2025-01-02T07:10:27.939565Z",
     "iopub.status.idle": "2025-01-02T07:10:27.946691Z",
     "shell.execute_reply": "2025-01-02T07:10:27.945651Z"
    },
    "papermill": {
     "duration": 0.013227,
     "end_time": "2025-01-02T07:10:27.948630",
     "exception": false,
     "start_time": "2025-01-02T07:10:27.935403",
     "status": "completed"
    },
    "tags": []
   },
   "outputs": [
    {
     "data": {
      "text/plain": [
       "(3000, 5)"
      ]
     },
     "execution_count": 3,
     "metadata": {},
     "output_type": "execute_result"
    }
   ],
   "source": [
    "# Shows the amount of rows and columns in the dataframe\n",
    "df.shape"
   ]
  },
  {
   "cell_type": "code",
   "execution_count": 4,
   "id": "ca0df3f7",
   "metadata": {
    "execution": {
     "iopub.execute_input": "2025-01-02T07:10:27.956549Z",
     "iopub.status.busy": "2025-01-02T07:10:27.956254Z",
     "iopub.status.idle": "2025-01-02T07:10:27.976705Z",
     "shell.execute_reply": "2025-01-02T07:10:27.975786Z"
    },
    "papermill": {
     "duration": 0.027239,
     "end_time": "2025-01-02T07:10:27.978991",
     "exception": false,
     "start_time": "2025-01-02T07:10:27.951752",
     "status": "completed"
    },
    "tags": []
   },
   "outputs": [
    {
     "data": {
      "text/html": [
       "<div>\n",
       "<style scoped>\n",
       "    .dataframe tbody tr th:only-of-type {\n",
       "        vertical-align: middle;\n",
       "    }\n",
       "\n",
       "    .dataframe tbody tr th {\n",
       "        vertical-align: top;\n",
       "    }\n",
       "\n",
       "    .dataframe thead th {\n",
       "        text-align: right;\n",
       "    }\n",
       "</style>\n",
       "<table border=\"1\" class=\"dataframe\">\n",
       "  <thead>\n",
       "    <tr style=\"text-align: right;\">\n",
       "      <th></th>\n",
       "      <th>v1</th>\n",
       "      <th>v2</th>\n",
       "      <th>Unnamed: 2</th>\n",
       "      <th>Unnamed: 3</th>\n",
       "      <th>Unnamed: 4</th>\n",
       "    </tr>\n",
       "  </thead>\n",
       "  <tbody>\n",
       "    <tr>\n",
       "      <th>0</th>\n",
       "      <td>Neg</td>\n",
       "      <td>A customer cannot stream a movie if they purc...</td>\n",
       "      <td>NaN</td>\n",
       "      <td>NaN</td>\n",
       "      <td>NaN</td>\n",
       "    </tr>\n",
       "    <tr>\n",
       "      <th>1</th>\n",
       "      <td>Neg</td>\n",
       "      <td>A database management system such as Oracle D...</td>\n",
       "      <td>NaN</td>\n",
       "      <td>NaN</td>\n",
       "      <td>NaN</td>\n",
       "    </tr>\n",
       "    <tr>\n",
       "      <th>2</th>\n",
       "      <td>Neg</td>\n",
       "      <td>All credit card information will be not be se...</td>\n",
       "      <td>NaN</td>\n",
       "      <td>NaN</td>\n",
       "      <td>NaN</td>\n",
       "    </tr>\n",
       "    <tr>\n",
       "      <th>3</th>\n",
       "      <td>Neg</td>\n",
       "      <td>Not all movies shall be streamed on demand at ...</td>\n",
       "      <td>NaN</td>\n",
       "      <td>NaN</td>\n",
       "      <td>NaN</td>\n",
       "    </tr>\n",
       "    <tr>\n",
       "      <th>4</th>\n",
       "      <td>Neg</td>\n",
       "      <td>An employee is unable to successfully use the...</td>\n",
       "      <td>NaN</td>\n",
       "      <td>NaN</td>\n",
       "      <td>NaN</td>\n",
       "    </tr>\n",
       "    <tr>\n",
       "      <th>5</th>\n",
       "      <td>Neg</td>\n",
       "      <td>Any interface between a user and the automate...</td>\n",
       "      <td>NaN</td>\n",
       "      <td>NaN</td>\n",
       "      <td>NaN</td>\n",
       "    </tr>\n",
       "    <tr>\n",
       "      <th>6</th>\n",
       "      <td>Neg</td>\n",
       "      <td>Table constraints like a Primary key, Foreign ...</td>\n",
       "      <td>NaN</td>\n",
       "      <td>NaN</td>\n",
       "      <td>NaN</td>\n",
       "    </tr>\n",
       "    <tr>\n",
       "      <th>7</th>\n",
       "      <td>Neg</td>\n",
       "      <td>File selection dialog does not show supported ...</td>\n",
       "      <td>NaN</td>\n",
       "      <td>NaN</td>\n",
       "      <td>NaN</td>\n",
       "    </tr>\n",
       "    <tr>\n",
       "      <th>8</th>\n",
       "      <td>Neg</td>\n",
       "      <td>Field length shown to the user on the page and...</td>\n",
       "      <td>NaN</td>\n",
       "      <td>NaN</td>\n",
       "      <td>NaN</td>\n",
       "    </tr>\n",
       "    <tr>\n",
       "      <th>9</th>\n",
       "      <td>Neg</td>\n",
       "      <td>Cancel button functionality is not working in ...</td>\n",
       "      <td>NaN</td>\n",
       "      <td>NaN</td>\n",
       "      <td>NaN</td>\n",
       "    </tr>\n",
       "  </tbody>\n",
       "</table>\n",
       "</div>"
      ],
      "text/plain": [
       "    v1                                                 v2 Unnamed: 2  \\\n",
       "0  Neg   A customer cannot stream a movie if they purc...        NaN   \n",
       "1  Neg   A database management system such as Oracle D...        NaN   \n",
       "2  Neg   All credit card information will be not be se...        NaN   \n",
       "3  Neg  Not all movies shall be streamed on demand at ...        NaN   \n",
       "4  Neg   An employee is unable to successfully use the...        NaN   \n",
       "5  Neg   Any interface between a user and the automate...        NaN   \n",
       "6  Neg  Table constraints like a Primary key, Foreign ...        NaN   \n",
       "7  Neg  File selection dialog does not show supported ...        NaN   \n",
       "8  Neg  Field length shown to the user on the page and...        NaN   \n",
       "9  Neg  Cancel button functionality is not working in ...        NaN   \n",
       "\n",
       "  Unnamed: 3 Unnamed: 4  \n",
       "0        NaN        NaN  \n",
       "1        NaN        NaN  \n",
       "2        NaN        NaN  \n",
       "3        NaN        NaN  \n",
       "4        NaN        NaN  \n",
       "5        NaN        NaN  \n",
       "6        NaN        NaN  \n",
       "7        NaN        NaN  \n",
       "8        NaN        NaN  \n",
       "9        NaN        NaN  "
      ]
     },
     "execution_count": 4,
     "metadata": {},
     "output_type": "execute_result"
    }
   ],
   "source": [
    "#shows the first 10 lines of data\n",
    "df.head(10)"
   ]
  },
  {
   "cell_type": "code",
   "execution_count": 5,
   "id": "4d880297",
   "metadata": {
    "execution": {
     "iopub.execute_input": "2025-01-02T07:10:27.987478Z",
     "iopub.status.busy": "2025-01-02T07:10:27.987149Z",
     "iopub.status.idle": "2025-01-02T07:10:27.999618Z",
     "shell.execute_reply": "2025-01-02T07:10:27.998717Z"
    },
    "papermill": {
     "duration": 0.018987,
     "end_time": "2025-01-02T07:10:28.001598",
     "exception": false,
     "start_time": "2025-01-02T07:10:27.982611",
     "status": "completed"
    },
    "tags": []
   },
   "outputs": [],
   "source": [
    "# Keep only the first and second columns\n",
    "columns_to_keep = ['v1', 'v2']\n",
    "df = df[columns_to_keep]"
   ]
  },
  {
   "cell_type": "code",
   "execution_count": 6,
   "id": "291ee25e",
   "metadata": {
    "execution": {
     "iopub.execute_input": "2025-01-02T07:10:28.009858Z",
     "iopub.status.busy": "2025-01-02T07:10:28.009504Z",
     "iopub.status.idle": "2025-01-02T07:10:28.017247Z",
     "shell.execute_reply": "2025-01-02T07:10:28.016251Z"
    },
    "papermill": {
     "duration": 0.014248,
     "end_time": "2025-01-02T07:10:28.019392",
     "exception": false,
     "start_time": "2025-01-02T07:10:28.005144",
     "status": "completed"
    },
    "tags": []
   },
   "outputs": [
    {
     "data": {
      "text/plain": [
       "v1    0\n",
       "v2    0\n",
       "dtype: int64"
      ]
     },
     "execution_count": 6,
     "metadata": {},
     "output_type": "execute_result"
    }
   ],
   "source": [
    "# Checking null values(optional)\n",
    "df.isnull().sum()"
   ]
  },
  {
   "cell_type": "code",
   "execution_count": 7,
   "id": "efb56986",
   "metadata": {
    "execution": {
     "iopub.execute_input": "2025-01-02T07:10:28.028245Z",
     "iopub.status.busy": "2025-01-02T07:10:28.027934Z",
     "iopub.status.idle": "2025-01-02T07:10:28.038901Z",
     "shell.execute_reply": "2025-01-02T07:10:28.037867Z"
    },
    "papermill": {
     "duration": 0.017931,
     "end_time": "2025-01-02T07:10:28.041128",
     "exception": false,
     "start_time": "2025-01-02T07:10:28.023197",
     "status": "completed"
    },
    "tags": []
   },
   "outputs": [
    {
     "data": {
      "text/plain": [
       "v1\n",
       "Pos    2100\n",
       "Neg     900\n",
       "Name: count, dtype: int64"
      ]
     },
     "execution_count": 7,
     "metadata": {},
     "output_type": "execute_result"
    }
   ],
   "source": [
    "# To see amount per label(optional) \n",
    "df.v1.value_counts()"
   ]
  },
  {
   "cell_type": "code",
   "execution_count": 8,
   "id": "cb03e31b",
   "metadata": {
    "execution": {
     "iopub.execute_input": "2025-01-02T07:10:28.050079Z",
     "iopub.status.busy": "2025-01-02T07:10:28.049698Z",
     "iopub.status.idle": "2025-01-02T07:10:32.066545Z",
     "shell.execute_reply": "2025-01-02T07:10:32.065362Z"
    },
    "papermill": {
     "duration": 4.023944,
     "end_time": "2025-01-02T07:10:32.068958",
     "exception": false,
     "start_time": "2025-01-02T07:10:28.045014",
     "status": "completed"
    },
    "tags": []
   },
   "outputs": [
    {
     "name": "stdout",
     "output_type": "stream",
     "text": [
      "\n",
      "Results for Multinomial Naive Bayes:\n",
      "Accuracy: 0.8\n",
      "Classification Report:\n",
      "               precision    recall  f1-score   support\n",
      "\n",
      "         Neg       0.89      0.43      0.58       288\n",
      "         Pos       0.78      0.97      0.87       612\n",
      "\n",
      "    accuracy                           0.80       900\n",
      "   macro avg       0.83      0.70      0.72       900\n",
      "weighted avg       0.82      0.80      0.78       900\n",
      "\n",
      "\n",
      "Results for Decision Tree:\n",
      "Accuracy: 0.9311111111111111\n",
      "Classification Report:\n",
      "               precision    recall  f1-score   support\n",
      "\n",
      "         Neg       0.92      0.86      0.89       288\n",
      "         Pos       0.94      0.97      0.95       612\n",
      "\n",
      "    accuracy                           0.93       900\n",
      "   macro avg       0.93      0.91      0.92       900\n",
      "weighted avg       0.93      0.93      0.93       900\n",
      "\n",
      "\n",
      "Results for Random Forest:\n",
      "Accuracy: 0.9011111111111111\n",
      "Classification Report:\n",
      "               precision    recall  f1-score   support\n",
      "\n",
      "         Neg       0.93      0.74      0.83       288\n",
      "         Pos       0.89      0.98      0.93       612\n",
      "\n",
      "    accuracy                           0.90       900\n",
      "   macro avg       0.91      0.86      0.88       900\n",
      "weighted avg       0.90      0.90      0.90       900\n",
      "\n",
      "\n",
      "Results for Support Vector Machine:\n",
      "Accuracy: 0.8677777777777778\n",
      "Classification Report:\n",
      "               precision    recall  f1-score   support\n",
      "\n",
      "         Neg       0.92      0.64      0.76       288\n",
      "         Pos       0.85      0.97      0.91       612\n",
      "\n",
      "    accuracy                           0.87       900\n",
      "   macro avg       0.89      0.81      0.83       900\n",
      "weighted avg       0.87      0.87      0.86       900\n",
      "\n",
      "\n",
      "Results for Logistic Regression:\n",
      "Accuracy: 0.8655555555555555\n",
      "Classification Report:\n",
      "               precision    recall  f1-score   support\n",
      "\n",
      "         Neg       0.96      0.61      0.74       288\n",
      "         Pos       0.84      0.99      0.91       612\n",
      "\n",
      "    accuracy                           0.87       900\n",
      "   macro avg       0.90      0.80      0.83       900\n",
      "weighted avg       0.88      0.87      0.86       900\n",
      "\n"
     ]
    }
   ],
   "source": [
    "# Model Development\n",
    "\n",
    "# Import necessary libraries\n",
    "import pandas as pd\n",
    "from sklearn.feature_extraction.text import CountVectorizer, TfidfTransformer\n",
    "from sklearn.ensemble import RandomForestClassifier\n",
    "from sklearn.naive_bayes import MultinomialNB\n",
    "from sklearn.tree import DecisionTreeClassifier\n",
    "from sklearn.svm import SVC\n",
    "from sklearn.linear_model import LogisticRegression\n",
    "from sklearn.pipeline import Pipeline\n",
    "from sklearn.model_selection import train_test_split\n",
    "from sklearn.metrics import accuracy_score, classification_report\n",
    "\n",
    "# Define classifiers\n",
    "classifiers = {\n",
    "    'Multinomial Naive Bayes': MultinomialNB(),\n",
    "    'Decision Tree': DecisionTreeClassifier(),\n",
    "    'Random Forest': RandomForestClassifier(),\n",
    "    'Support Vector Machine': SVC(),\n",
    "    'Logistic Regression': LogisticRegression()\n",
    "}\n",
    "\n",
    "# Iterate through classifiers\n",
    "for name, clf in classifiers.items():\n",
    "    # Build a corpus from the 'Test Case/v2' column\n",
    "    corpus = df['v2'].tolist()\n",
    "\n",
    "    # Create a Bag-of-Words model using CountVectorizer(to convert the text data into numerical features) \n",
    "    # and TfidfTransformer(commonly used to normalize and scale the term frequencies)\n",
    "    vectorizer = CountVectorizer()\n",
    "    transformer = TfidfTransformer()\n",
    "    classifier = clf\n",
    "\n",
    "    # Create a pipeline with a text feature vectorizer (CountVectorizer), TfidfTransformer, and the classifier\n",
    "    model = Pipeline([\n",
    "        ('vectorizer', vectorizer),\n",
    "        ('transformer', transformer),\n",
    "        ('classifier', classifier)\n",
    "    ])\n",
    "\n",
    "    # Split the dataset into training and testing sets\n",
    "    X_train, X_test, y_train, y_test = train_test_split(corpus, df['v1'], test_size=0.3, random_state=42)\n",
    "\n",
    "    # Train the model\n",
    "    model.fit(X_train, y_train)\n",
    "\n",
    "    # Make predictions on the test set\n",
    "    predictions = model.predict(X_test)\n",
    "\n",
    "    # Evaluate the model\n",
    "    accuracy = accuracy_score(y_test, predictions)\n",
    "    report = classification_report(y_test, predictions)\n",
    "\n",
    "    print(f'\\nResults for {name}:')\n",
    "    print(f'Accuracy: {accuracy}')\n",
    "    print('Classification Report:\\n', report)\n"
   ]
  },
  {
   "cell_type": "code",
   "execution_count": 9,
   "id": "0fad2752",
   "metadata": {
    "execution": {
     "iopub.execute_input": "2025-01-02T07:10:32.078329Z",
     "iopub.status.busy": "2025-01-02T07:10:32.077966Z",
     "iopub.status.idle": "2025-01-02T07:10:32.242425Z",
     "shell.execute_reply": "2025-01-02T07:10:32.241345Z"
    },
    "papermill": {
     "duration": 0.171686,
     "end_time": "2025-01-02T07:10:32.244664",
     "exception": false,
     "start_time": "2025-01-02T07:10:32.072978",
     "status": "completed"
    },
    "tags": []
   },
   "outputs": [
    {
     "data": {
      "text/plain": [
       "['decision_tree_model.pkl']"
      ]
     },
     "execution_count": 9,
     "metadata": {},
     "output_type": "execute_result"
    }
   ],
   "source": [
    "# Use Decision Tree \n",
    "\n",
    "classifier = DecisionTreeClassifier()\n",
    "\n",
    "# Create a pipeline with a text feature vectorizer (CountVectorizer), TfidfTransformer, and the Decision Tree classifier\n",
    "model = Pipeline([\n",
    "    ('vectorizer', vectorizer),\n",
    "    ('transformer', transformer),\n",
    "    ('classifier', classifier)\n",
    "])\n",
    "\n",
    "# Split the dataset into training and testing sets\n",
    "X_train, X_test, y_train, y_test = train_test_split(corpus, df['v1'], test_size=0.3, random_state=42)\n",
    "\n",
    "# Train the model\n",
    "model.fit(X_train, y_train)\n",
    "\n",
    "# Save the trained model to a file\n",
    "# Use joblib to save and load the model\n",
    "import joblib  \n",
    "joblib.dump(model, 'decision_tree_model.pkl')"
   ]
  },
  {
   "cell_type": "code",
   "execution_count": 10,
   "id": "eff62d63",
   "metadata": {
    "execution": {
     "iopub.execute_input": "2025-01-02T07:10:32.254117Z",
     "iopub.status.busy": "2025-01-02T07:10:32.253708Z",
     "iopub.status.idle": "2025-01-02T07:10:32.258333Z",
     "shell.execute_reply": "2025-01-02T07:10:32.257406Z"
    },
    "papermill": {
     "duration": 0.011749,
     "end_time": "2025-01-02T07:10:32.260509",
     "exception": false,
     "start_time": "2025-01-02T07:10:32.248760",
     "status": "completed"
    },
    "tags": []
   },
   "outputs": [],
   "source": [
    "# # # Later on(if you want to build an interface), when you want to use the model for predictions:\n",
    "\n",
    "# # # Load the trained model from the file\n",
    "# loaded_model = joblib.load('decision_tree_model.pkl')\n",
    "\n",
    "# # # Input a new test case\n",
    "# single_test_case = [input(\"Enter your test case: \")]\n",
    "\n",
    "# # # Make predictions using the loaded model\n",
    "# prediction = loaded_model.predict(single_test_case)\n",
    "\n",
    "# # # Display the result\n",
    "# print(f'Test Case: {single_test_case[0]}')\n",
    "# print(f'Prediction: {prediction[0]}')\n"
   ]
  },
  {
   "cell_type": "code",
   "execution_count": 11,
   "id": "e22809d2",
   "metadata": {
    "execution": {
     "iopub.execute_input": "2025-01-02T07:10:32.270663Z",
     "iopub.status.busy": "2025-01-02T07:10:32.269708Z",
     "iopub.status.idle": "2025-01-02T07:10:32.274465Z",
     "shell.execute_reply": "2025-01-02T07:10:32.273483Z"
    },
    "papermill": {
     "duration": 0.011835,
     "end_time": "2025-01-02T07:10:32.276516",
     "exception": false,
     "start_time": "2025-01-02T07:10:32.264681",
     "status": "completed"
    },
    "tags": []
   },
   "outputs": [],
   "source": [
    "# # # Later on(if you want to build an interface), when you want to use the model for predictions:\n",
    "\n",
    "# # # Load the trained model from the file\n",
    "# loaded_model = joblib.load('decision_tree_model.pkl')\n",
    "\n",
    "# # # Input a new test case\n",
    "# single_test_case = [input(\"Enter your test case: \")]\n",
    "\n",
    "# # # Make predictions using the loaded model\n",
    "# prediction = loaded_model.predict(single_test_case)\n",
    "\n",
    "# # # Display the result\n",
    "# print(f'Test Case: {single_test_case[0]}')\n",
    "# print(f'Prediction: {prediction[0]}')"
   ]
  },
  {
   "cell_type": "code",
   "execution_count": null,
   "id": "d7446709",
   "metadata": {
    "papermill": {
     "duration": 0.003661,
     "end_time": "2025-01-02T07:10:32.284342",
     "exception": false,
     "start_time": "2025-01-02T07:10:32.280681",
     "status": "completed"
    },
    "tags": []
   },
   "outputs": [],
   "source": []
  }
 ],
 "metadata": {
  "kaggle": {
   "accelerator": "none",
   "dataSources": [
    {
     "datasetId": 3019493,
     "sourceId": 5193109,
     "sourceType": "datasetVersion"
    }
   ],
   "dockerImageVersionId": 30579,
   "isGpuEnabled": false,
   "isInternetEnabled": false,
   "language": "python",
   "sourceType": "notebook"
  },
  "kernelspec": {
   "display_name": "Python 3",
   "language": "python",
   "name": "python3"
  },
  "language_info": {
   "codemirror_mode": {
    "name": "ipython",
    "version": 3
   },
   "file_extension": ".py",
   "mimetype": "text/x-python",
   "name": "python",
   "nbconvert_exporter": "python",
   "pygments_lexer": "ipython3",
   "version": "3.10.12"
  },
  "papermill": {
   "default_parameters": {},
   "duration": 9.698672,
   "end_time": "2025-01-02T07:10:32.809109",
   "environment_variables": {},
   "exception": null,
   "input_path": "__notebook__.ipynb",
   "output_path": "__notebook__.ipynb",
   "parameters": {},
   "start_time": "2025-01-02T07:10:23.110437",
   "version": "2.4.0"
  }
 },
 "nbformat": 4,
 "nbformat_minor": 5
}
